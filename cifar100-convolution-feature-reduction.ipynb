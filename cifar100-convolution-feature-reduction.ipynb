{
 "cells": [
  {
   "cell_type": "code",
   "execution_count": 1,
   "metadata": {},
   "outputs": [
    {
     "name": "stderr",
     "output_type": "stream",
     "text": [
      "/home/kabir/anaconda3/lib/python3.6/site-packages/h5py/__init__.py:36: FutureWarning: Conversion of the second argument of issubdtype from `float` to `np.floating` is deprecated. In future, it will be treated as `np.float64 == np.dtype(float).type`.\n",
      "  from ._conv import register_converters as _register_converters\n",
      "Using TensorFlow backend.\n"
     ]
    }
   ],
   "source": [
    "from __future__ import absolute_import\n",
    "from __future__ import division\n",
    "from __future__ import print_function\n",
    "\n",
    "import os\n",
    "import keras\n",
    "import numpy as np\n",
    "\n",
    "from tensorflow.python.keras import backend as K\n",
    "from tensorflow.python.keras.datasets.cifar import load_batch\n",
    "from tensorflow.python.keras.utils.data_utils import get_file\n",
    "from tensorflow.python.util.tf_export import tf_export\n",
    "\n",
    "from keras.layers import Conv2D, MaxPooling2D, Flatten, Activation\n",
    "from keras.models import Sequential"
   ]
  },
  {
   "cell_type": "code",
   "execution_count": 2,
   "metadata": {},
   "outputs": [],
   "source": [
    "def load_data(label_mode='fine'):\n",
    "    if label_mode not in ['fine', 'coarse']:\n",
    "        raise ValueError('`label_mode` must be one of `\"fine\"`, `\"coarse\"`.')\n",
    "    \n",
    "    path = \"/home/kabir/.keras/datasets/cifar-100-python\"\n",
    "    fpath = os.path.join(path, 'train')\n",
    "    x_train, y_train = load_batch(fpath, label_key=label_mode + '_labels')\n",
    "\n",
    "    fpath = os.path.join(path, 'test')\n",
    "    x_test, y_test = load_batch(fpath, label_key=label_mode + '_labels')\n",
    "\n",
    "    y_train = np.reshape(y_train, (len(y_train), 1))\n",
    "    y_test = np.reshape(y_test, (len(y_test), 1))\n",
    "\n",
    "    if K.image_data_format() == 'channels_last':\n",
    "        x_train = x_train.transpose(0, 2, 3, 1)\n",
    "        x_test = x_test.transpose(0, 2, 3, 1)\n",
    "\n",
    "    return (x_train, y_train), (x_test, y_test)"
   ]
  },
  {
   "cell_type": "code",
   "execution_count": 3,
   "metadata": {},
   "outputs": [],
   "source": [
    "(x_train, y_train), (x_test, y_test) = load_data()"
   ]
  },
  {
   "cell_type": "code",
   "execution_count": 4,
   "metadata": {},
   "outputs": [],
   "source": [
    "x_train = x_train.astype('float32')"
   ]
  },
  {
   "cell_type": "code",
   "execution_count": 5,
   "metadata": {},
   "outputs": [],
   "source": [
    "x_train /= 255."
   ]
  },
  {
   "cell_type": "code",
   "execution_count": 6,
   "metadata": {},
   "outputs": [],
   "source": [
    "model = Sequential()"
   ]
  },
  {
   "cell_type": "code",
   "execution_count": 7,
   "metadata": {},
   "outputs": [
    {
     "data": {
      "text/plain": [
       "(50000, 32, 32, 3)"
      ]
     },
     "execution_count": 7,
     "metadata": {},
     "output_type": "execute_result"
    }
   ],
   "source": [
    "x_train.shape"
   ]
  },
  {
   "cell_type": "code",
   "execution_count": 8,
   "metadata": {},
   "outputs": [
    {
     "name": "stdout",
     "output_type": "stream",
     "text": [
      "channels_last\n"
     ]
    }
   ],
   "source": [
    "data_format = K.image_data_format()\n",
    "print(data_format)"
   ]
  },
  {
   "cell_type": "code",
   "execution_count": 9,
   "metadata": {},
   "outputs": [],
   "source": [
    "num_classes = 100\n",
    "img_rows, img_cols = 32, 32\n",
    "x_train = x_train.reshape(x_train.shape[0], img_rows, img_cols, 3)\n",
    "x_test = x_test.reshape(x_test.shape[0], img_rows, img_cols, 3)\n",
    "input_shape = (img_rows, img_cols, 3)"
   ]
  },
  {
   "cell_type": "code",
   "execution_count": 10,
   "metadata": {},
   "outputs": [],
   "source": [
    "model = Sequential()\n",
    "model.add(Conv2D(1, kernel_size=(3, 3),\n",
    "                 activation='relu',\n",
    "                 input_shape=input_shape))\n",
    "model.add(Conv2D(1, (3, 3), activation='relu'))\n",
    "model.add(MaxPooling2D(pool_size=(2, 2)))\n",
    "#model.add(Dropout(0.25))\n",
    "model.add(Flatten())"
   ]
  },
  {
   "cell_type": "code",
   "execution_count": 11,
   "metadata": {},
   "outputs": [],
   "source": [
    "def nice_img_printer(model, img):\n",
    "    '''returns the img as a 2d array'''\n",
    "    exp_img = np.expand_dims(img,axis=0)\n",
    "    conv_img = model.predict(exp_img)\n",
    "\n",
    "    conv_img = np.squeeze(conv_img, axis=0)\n",
    "    conv_img = np.reshape(conv_img, (-1, 14))\n",
    "    return conv_img"
   ]
  },
  {
   "cell_type": "code",
   "execution_count": 16,
   "metadata": {},
   "outputs": [
    {
     "name": "stdout",
     "output_type": "stream",
     "text": [
      "(14, 14)\n"
     ]
    },
    {
     "data": {
      "text/plain": [
       "<matplotlib.image.AxesImage at 0x7f26b1e40710>"
      ]
     },
     "execution_count": 16,
     "metadata": {},
     "output_type": "execute_result"
    },
    {
     "data": {
      "image/png": "[encoded data removed]",
      "text/plain": [
       "<Figure size 432x288 with 1 Axes>"
      ]
     },
     "metadata": {},
     "output_type": "display_data"
    }
   ],
   "source": [
    "img = x_train[0]\n",
    "img = nice_img_printer(model, img)\n",
    "\n",
    "import matplotlib.pyplot as plt\n",
    "print(img.shape)\n",
    "plt.imshow(img, cmap='gray')"
   ]
  },
  {
   "cell_type": "code",
   "execution_count": 17,
   "metadata": {},
   "outputs": [
    {
     "name": "stdout",
     "output_type": "stream",
     "text": [
      "_________________________________________________________________\n",
      "Layer (type)                 Output Shape              Param #   \n",
      "=================================================================\n",
      "conv2d_1 (Conv2D)            (None, 30, 30, 1)         28        \n",
      "_________________________________________________________________\n",
      "conv2d_2 (Conv2D)            (None, 28, 28, 1)         10        \n",
      "_________________________________________________________________\n",
      "max_pooling2d_1 (MaxPooling2 (None, 14, 14, 1)         0         \n",
      "_________________________________________________________________\n",
      "flatten_1 (Flatten)          (None, 196)               0         \n",
      "=================================================================\n",
      "Total params: 38\n",
      "Trainable params: 38\n",
      "Non-trainable params: 0\n",
      "_________________________________________________________________\n"
     ]
    }
   ],
   "source": [
    "model.summary()"
   ]
  },
  {
   "cell_type": "code",
   "execution_count": 18,
   "metadata": {},
   "outputs": [
    {
     "name": "stdout",
     "output_type": "stream",
     "text": [
      "74.44440841674805\n"
     ]
    }
   ],
   "source": [
    "import time\n",
    "initial_time = time.time()\n",
    "for i in range(x_train.shape[0]):\n",
    "    img = x_train[i]\n",
    "    img = nice_img_printer(model, img)\n",
    "reduction_time = time.time() - initial_time\n",
    "print(reduction_time)"
   ]
  },
  {
   "cell_type": "code",
   "execution_count": 19,
   "metadata": {},
   "outputs": [
    {
     "name": "stdout",
     "output_type": "stream",
     "text": [
      "45.09548377990723\n"
     ]
    }
   ],
   "source": [
    "half_initial_time = time.time()\n",
    "for i in range(x_train.shape[0] // 2):\n",
    "    img = x_train[i]\n",
    "    img = nice_img_printer(model, img)\n",
    "half_reduction_time = time.time() - half_initial_time\n",
    "print(half_reduction_time)"
   ]
  },
  {
   "cell_type": "code",
   "execution_count": 20,
   "metadata": {},
   "outputs": [
    {
     "name": "stdout",
     "output_type": "stream",
     "text": [
      "20.38350772857666\n"
     ]
    }
   ],
   "source": [
    "quarter_initial_time = time.time()\n",
    "for i in range(x_train.shape[0] // 4):\n",
    "    img = x_train[i]\n",
    "    img = nice_img_printer(model, img)\n",
    "quarter_reduction_time = time.time() - quarter_initial_time\n",
    "print(quarter_reduction_time)"
   ]
  },
  {
   "cell_type": "code",
   "execution_count": 21,
   "metadata": {},
   "outputs": [
    {
     "name": "stdout",
     "output_type": "stream",
     "text": [
      "12.966588497161865\n"
     ]
    }
   ],
   "source": [
    "by6_initial_time = time.time()\n",
    "for i in range(x_train.shape[0] // 6):\n",
    "    img = x_train[i]\n",
    "    img = nice_img_printer(model, img)\n",
    "by6_reduction_time = time.time() - by6_initial_time\n",
    "print(by6_reduction_time)"
   ]
  },
  {
   "cell_type": "code",
   "execution_count": 22,
   "metadata": {},
   "outputs": [
    {
     "name": "stdout",
     "output_type": "stream",
     "text": [
      "11.484248876571655\n"
     ]
    }
   ],
   "source": [
    "by8_initial_time = time.time()\n",
    "for i in range(x_train.shape[0] // 8):\n",
    "    img = x_train[i]\n",
    "    img = nice_img_printer(model, img)\n",
    "by8_reduction_time = time.time() - by8_initial_time\n",
    "print(by8_reduction_time)"
   ]
  },
  {
   "cell_type": "code",
   "execution_count": 23,
   "metadata": {},
   "outputs": [
    {
     "name": "stdout",
     "output_type": "stream",
     "text": [
      "6.878881216049194\n"
     ]
    }
   ],
   "source": [
    "by10_initial_time = time.time()\n",
    "for i in range(x_train.shape[0] // 10):\n",
    "    img = x_train[i]\n",
    "    img = nice_img_printer(model, img)\n",
    "by10_reduction_time = time.time() - by10_initial_time\n",
    "print(by10_reduction_time)"
   ]
  },
  {
   "cell_type": "code",
   "execution_count": 24,
   "metadata": {},
   "outputs": [
    {
     "name": "stdout",
     "output_type": "stream",
     "text": [
      "4.531256437301636\n"
     ]
    }
   ],
   "source": [
    "by16_initial_time = time.time()\n",
    "for i in range(x_train.shape[0] // 16):\n",
    "    img = x_train[i]\n",
    "    img = nice_img_printer(model, img)\n",
    "by16_reduction_time = time.time() - by16_initial_time\n",
    "print(by16_reduction_time)"
   ]
  },
  {
   "cell_type": "code",
   "execution_count": 25,
   "metadata": {},
   "outputs": [
    {
     "name": "stdout",
     "output_type": "stream",
     "text": [
      "2.2620344161987305\n"
     ]
    }
   ],
   "source": [
    "by32_initial_time = time.time()\n",
    "for i in range(x_train.shape[0] // 32):\n",
    "    img = x_train[i]\n",
    "    img = nice_img_printer(model, img)\n",
    "by32_reduction_time = time.time() - by32_initial_time\n",
    "print(by32_reduction_time)"
   ]
  },
  {
   "cell_type": "code",
   "execution_count": null,
   "metadata": {},
   "outputs": [],
   "source": []
  }
 ],
 "metadata": {
  "kernelspec": {
   "display_name": "Python 3",
   "language": "python",
   "name": "python3"
  },
  "language_info": {
   "codemirror_mode": {
    "name": "ipython",
    "version": 3
   },
   "file_extension": ".py",
   "mimetype": "text/x-python",
   "name": "python",
   "nbconvert_exporter": "python",
   "pygments_lexer": "ipython3",
   "version": "3.6.6"
  }
 },
 "nbformat": 4,
 "nbformat_minor": 2
}
