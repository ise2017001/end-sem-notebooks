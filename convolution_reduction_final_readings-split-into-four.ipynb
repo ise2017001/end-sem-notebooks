{
 "cells": [
  {
   "cell_type": "code",
   "execution_count": 1,
   "metadata": {},
   "outputs": [
    {
     "name": "stderr",
     "output_type": "stream",
     "text": [
      "/home/kabir/anaconda3/lib/python3.6/site-packages/h5py/__init__.py:36: FutureWarning: Conversion of the second argument of issubdtype from `float` to `np.floating` is deprecated. In future, it will be treated as `np.float64 == np.dtype(float).type`.\n",
      "  from ._conv import register_converters as _register_converters\n",
      "Using TensorFlow backend.\n"
     ]
    }
   ],
   "source": [
    "import keras\n",
    "from keras.datasets import mnist\n",
    "from keras.models import Sequential\n",
    "from keras.layers import Dense, Dropout, Flatten\n",
    "from keras.layers import Conv2D, MaxPooling2D\n",
    "from keras import backend as K\n",
    "import numpy as np\n",
    "import matplotlib.pyplot as plt"
   ]
  },
  {
   "cell_type": "code",
   "execution_count": 2,
   "metadata": {},
   "outputs": [],
   "source": [
    "num_classes = 10"
   ]
  },
  {
   "cell_type": "code",
   "execution_count": 3,
   "metadata": {},
   "outputs": [],
   "source": [
    "img_rows, img_cols = 28, 28"
   ]
  },
  {
   "cell_type": "code",
   "execution_count": 4,
   "metadata": {},
   "outputs": [
    {
     "data": {
      "image/png": "[encoded data removed]",
      "text/plain": [
       "<Figure size 432x288 with 1 Axes>"
      ]
     },
     "metadata": {},
     "output_type": "display_data"
    }
   ],
   "source": [
    "(x_train, y_train), (x_test, y_test) = mnist.load_data()\n",
    "plt.imshow(x_train[0])\n",
    "if K.image_data_format() == 'channels_first':\n",
    "    x_train = x_train.reshape(x_train.shape[0], 1, img_rows, img_cols)\n",
    "    x_test = x_test.reshape(x_test.shape[0], 1, img_rows, img_cols)\n",
    "    input_shape = (1, img_rows, img_cols)\n",
    "else:\n",
    "    x_train = x_train.reshape(x_train.shape[0], img_rows, img_cols, 1)\n",
    "    x_test = x_test.reshape(x_test.shape[0], img_rows, img_cols, 1)\n",
    "    input_shape = (img_rows, img_cols, 1)"
   ]
  },
  {
   "cell_type": "code",
   "execution_count": 5,
   "metadata": {},
   "outputs": [
    {
     "name": "stdout",
     "output_type": "stream",
     "text": [
      "<class 'numpy.ndarray'>\n"
     ]
    }
   ],
   "source": [
    "print(type(x_train))"
   ]
  },
  {
   "cell_type": "code",
   "execution_count": 6,
   "metadata": {},
   "outputs": [
    {
     "data": {
      "text/plain": [
       "(28, 28, 1)"
      ]
     },
     "execution_count": 6,
     "metadata": {},
     "output_type": "execute_result"
    }
   ],
   "source": [
    "x_train[0].shape"
   ]
  },
  {
   "cell_type": "code",
   "execution_count": 7,
   "metadata": {},
   "outputs": [
    {
     "name": "stdout",
     "output_type": "stream",
     "text": [
      "x_train shape: (60000, 28, 28, 1)\n",
      "60000 train samples\n",
      "10000 test samples\n"
     ]
    }
   ],
   "source": [
    "x_train = x_train.astype('float32')\n",
    "x_test = x_test.astype('float32')\n",
    "x_train /= 255\n",
    "x_test /= 255\n",
    "print('x_train shape:', x_train.shape)\n",
    "print(x_train.shape[0], 'train samples')\n",
    "print(x_test.shape[0], 'test samples')"
   ]
  },
  {
   "cell_type": "code",
   "execution_count": 8,
   "metadata": {},
   "outputs": [],
   "source": [
    "y_train = keras.utils.to_categorical(y_train, num_classes)\n",
    "y_test = keras.utils.to_categorical(y_test, num_classes)"
   ]
  },
  {
   "cell_type": "code",
   "execution_count": 9,
   "metadata": {},
   "outputs": [],
   "source": [
    "model = Sequential()\n",
    "model.add(Conv2D(1, kernel_size=(3, 3),\n",
    "                 activation='relu',\n",
    "                 input_shape=input_shape))\n",
    "model.add(Conv2D(1, (3, 3), activation='relu'))\n",
    "model.add(MaxPooling2D(pool_size=(2, 2)))\n",
    "#model.add(Dropout(0.25))\n",
    "model.add(Flatten())"
   ]
  },
  {
   "cell_type": "code",
   "execution_count": 10,
   "metadata": {},
   "outputs": [
    {
     "name": "stdout",
     "output_type": "stream",
     "text": [
      "_________________________________________________________________\n",
      "Layer (type)                 Output Shape              Param #   \n",
      "=================================================================\n",
      "conv2d_1 (Conv2D)            (None, 26, 26, 1)         10        \n",
      "_________________________________________________________________\n",
      "conv2d_2 (Conv2D)            (None, 24, 24, 1)         10        \n",
      "_________________________________________________________________\n",
      "max_pooling2d_1 (MaxPooling2 (None, 12, 12, 1)         0         \n",
      "_________________________________________________________________\n",
      "flatten_1 (Flatten)          (None, 144)               0         \n",
      "=================================================================\n",
      "Total params: 20\n",
      "Trainable params: 20\n",
      "Non-trainable params: 0\n",
      "_________________________________________________________________\n"
     ]
    }
   ],
   "source": [
    "model.summary()"
   ]
  },
  {
   "cell_type": "code",
   "execution_count": 11,
   "metadata": {},
   "outputs": [],
   "source": [
    "def nice_img_printer(model, img):\n",
    "    '''returns the img as a 2d array'''\n",
    "    exp_img = np.expand_dims(img,axis=0)\n",
    "    conv_img = model.predict(exp_img)\n",
    "\n",
    "    conv_img = np.squeeze(conv_img, axis=0)\n",
    "    conv_img = np.reshape(conv_img, (-1, 12))\n",
    "    return conv_img"
   ]
  },
  {
   "cell_type": "code",
   "execution_count": 12,
   "metadata": {},
   "outputs": [
    {
     "name": "stdout",
     "output_type": "stream",
     "text": [
      "(12, 12)\n"
     ]
    },
    {
     "data": {
      "text/plain": [
       "<matplotlib.image.AxesImage at 0x7fd3098c7240>"
      ]
     },
     "execution_count": 12,
     "metadata": {},
     "output_type": "execute_result"
    },
    {
     "data": {
      "image/png": "[encoded data removed]",
      "text/plain": [
       "<Figure size 432x288 with 1 Axes>"
      ]
     },
     "metadata": {},
     "output_type": "display_data"
    }
   ],
   "source": [
    "img = x_train[0]\n",
    "img = nice_img_printer(model, img)\n",
    "\n",
    "print(img.shape)\n",
    "plt.imshow(img) "
   ]
  },
  {
   "cell_type": "code",
   "execution_count": 37,
   "metadata": {},
   "outputs": [
    {
     "name": "stdout",
     "output_type": "stream",
     "text": [
      "77.92311549186707\n"
     ]
    }
   ],
   "source": [
    "import time\n",
    "initial_time = time.time()\n",
    "for i in range(x_train.shape[0]):\n",
    "    img = x_train[i]\n",
    "    img = nice_img_printer(model, img)\n",
    "reduction_time = time.time() - initial_time\n",
    "print(reduction_time)"
   ]
  },
  {
   "cell_type": "code",
   "execution_count": 22,
   "metadata": {},
   "outputs": [
    {
     "name": "stdout",
     "output_type": "stream",
     "text": [
      "mins:seconds 1 : 14.813807487487793\n"
     ]
    }
   ],
   "source": [
    "# reduction_time_mins, reduction_time_seconds = int(reduction_time // 60), reduction_time % 60\n",
    "# print(\"mins:seconds\", reduction_time_mins,\":\",reduction_time_seconds)"
   ]
  },
  {
   "cell_type": "code",
   "execution_count": 13,
   "metadata": {},
   "outputs": [
    {
     "name": "stdout",
     "output_type": "stream",
     "text": [
      "19.331972122192383\n"
     ]
    }
   ],
   "source": [
    "quarter_initial_time = time.time()\n",
    "for i in range(x_train.shape[0] // 4):\n",
    "    img = x_train[i]\n",
    "    img = nice_img_printer(model, img)\n",
    "quarter_reduction_time = time.time() - quarter_initial_time\n",
    "print(quarter_reduction_time)"
   ]
  },
  {
   "cell_type": "code",
   "execution_count": 14,
   "metadata": {},
   "outputs": [
    {
     "name": "stdout",
     "output_type": "stream",
     "text": [
      "mins:seconds 0 : 19.331972122192383\n"
     ]
    }
   ],
   "source": [
    "# quarter_reduction_time_mins, quarter_reduction_time_seconds = int(quarter_reduction_time // 60), quarter_reduction_time % 60\n",
    "# print(\"mins:seconds\", quarter_reduction_time_mins,\":\",quarter_reduction_time_seconds)"
   ]
  },
  {
   "cell_type": "code",
   "execution_count": null,
   "metadata": {},
   "outputs": [],
   "source": [
    "# divide_factor = 2\n",
    "# while divide_factor <= 128:\n",
    "#     first_component_reduction_time_initial = time.time()\n",
    "#     for i in range(x_train.shape[0] // divide_factor):\n",
    "#         img = x_train[i]\n",
    "#         img = nice_img_printer(model, img)\n",
    "#     first_component_reduction_time = time.time() - first_component_reduction_time_initial\n",
    "#     print(first_component_reduction_time)\n"
   ]
  },
  {
   "cell_type": "code",
   "execution_count": 15,
   "metadata": {},
   "outputs": [
    {
     "name": "stdout",
     "output_type": "stream",
     "text": [
      "11.301003217697144\n"
     ]
    }
   ],
   "source": [
    "by6_initial_time = time.time()\n",
    "for i in range(x_train.shape[0] // 6):\n",
    "    img = x_train[i]\n",
    "    img = nice_img_printer(model, img)\n",
    "by6_reduction_time = time.time() - by6_initial_time\n",
    "print(by6_reduction_time)"
   ]
  },
  {
   "cell_type": "code",
   "execution_count": 16,
   "metadata": {},
   "outputs": [
    {
     "name": "stdout",
     "output_type": "stream",
     "text": [
      "8.796293258666992\n"
     ]
    }
   ],
   "source": [
    "by8_initial_time = time.time()\n",
    "for i in range(x_train.shape[0] // 8):\n",
    "    img = x_train[i]\n",
    "    img = nice_img_printer(model, img)\n",
    "by8_reduction_time = time.time() - by8_initial_time\n",
    "print(by8_reduction_time)"
   ]
  },
  {
   "cell_type": "code",
   "execution_count": 17,
   "metadata": {},
   "outputs": [
    {
     "name": "stdout",
     "output_type": "stream",
     "text": [
      "7.003547191619873\n"
     ]
    }
   ],
   "source": [
    "by10_initial_time = time.time()\n",
    "for i in range(x_train.shape[0] // 10):\n",
    "    img = x_train[i]\n",
    "    img = nice_img_printer(model, img)\n",
    "by10_reduction_time = time.time() - by10_initial_time\n",
    "print(by10_reduction_time)"
   ]
  },
  {
   "cell_type": "code",
   "execution_count": 18,
   "metadata": {},
   "outputs": [
    {
     "name": "stdout",
     "output_type": "stream",
     "text": [
      "4.384636163711548\n"
     ]
    }
   ],
   "source": [
    "by16_initial_time = time.time()\n",
    "for i in range(x_train.shape[0] // 16):\n",
    "    img = x_train[i]\n",
    "    img = nice_img_printer(model, img)\n",
    "by16_reduction_time = time.time() - by16_initial_time\n",
    "print(by16_reduction_time)"
   ]
  },
  {
   "cell_type": "code",
   "execution_count": 19,
   "metadata": {},
   "outputs": [
    {
     "name": "stdout",
     "output_type": "stream",
     "text": [
      "2.166170358657837\n"
     ]
    }
   ],
   "source": [
    "by32_initial_time = time.time()\n",
    "for i in range(x_train.shape[0] // 32):\n",
    "    img = x_train[i]\n",
    "    img = nice_img_printer(model, img)\n",
    "by32_reduction_time = time.time() - by32_initial_time\n",
    "print(by32_reduction_time)"
   ]
  },
  {
   "cell_type": "code",
   "execution_count": 20,
   "metadata": {},
   "outputs": [
    {
     "name": "stdout",
     "output_type": "stream",
     "text": [
      "2.5417637825012207\n"
     ]
    }
   ],
   "source": [
    "by33_initial_time = time.time()\n",
    "for i in range(x_train.shape[0] // 33):\n",
    "    img = x_train[i]\n",
    "    img = nice_img_printer(model, img)\n",
    "by33_reduction_time = time.time() - by33_initial_time\n",
    "print(by33_reduction_time)"
   ]
  },
  {
   "cell_type": "code",
   "execution_count": 25,
   "metadata": {},
   "outputs": [
    {
     "name": "stdout",
     "output_type": "stream",
     "text": [
      "1.73313307762146\n"
     ]
    }
   ],
   "source": [
    "by40_initial_time = time.time()\n",
    "for i in range(x_train.shape[0] // 40):\n",
    "    img = x_train[i]\n",
    "    img = nice_img_printer(model, img)\n",
    "by40_reduction_time = time.time() - by40_initial_time\n",
    "print(by40_reduction_time)"
   ]
  },
  {
   "cell_type": "code",
   "execution_count": 36,
   "metadata": {},
   "outputs": [
    {
     "name": "stdout",
     "output_type": "stream",
     "text": [
      "1.709388017654419\n"
     ]
    }
   ],
   "source": [
    "by41_initial_time = time.time()\n",
    "for i in range(x_train.shape[0] // 41):\n",
    "    img = x_train[i]\n",
    "    img = nice_img_printer(model, img)\n",
    "by41_reduction_time = time.time() - by41_initial_time\n",
    "print(by41_reduction_time)"
   ]
  },
  {
   "cell_type": "code",
   "execution_count": 23,
   "metadata": {},
   "outputs": [
    {
     "name": "stdout",
     "output_type": "stream",
     "text": [
      "1.4672191143035889\n"
     ]
    }
   ],
   "source": [
    "by50_initial_time = time.time()\n",
    "for i in range(x_train.shape[0] // 50):\n",
    "    img = x_train[i]\n",
    "    img = nice_img_printer(model, img)\n",
    "by50_reduction_time = time.time() - by50_initial_time\n",
    "print(by50_reduction_time)"
   ]
  },
  {
   "cell_type": "code",
   "execution_count": 24,
   "metadata": {},
   "outputs": [
    {
     "name": "stdout",
     "output_type": "stream",
     "text": [
      "1.3576161861419678\n"
     ]
    }
   ],
   "source": [
    "by51_initial_time = time.time()\n",
    "for i in range(x_train.shape[0] // 51):\n",
    "    img = x_train[i]\n",
    "    img = nice_img_printer(model, img)\n",
    "by51_reduction_time = time.time() - by51_initial_time\n",
    "print(by51_reduction_time)"
   ]
  },
  {
   "cell_type": "code",
   "execution_count": 38,
   "metadata": {},
   "outputs": [
    {
     "name": "stdout",
     "output_type": "stream",
     "text": [
      "38.13211941719055\n"
     ]
    }
   ],
   "source": [
    "half_initial_time = time.time()\n",
    "for i in range(x_train.shape[0] // 2):\n",
    "    img = x_train[i]\n",
    "    img = nice_img_printer(model, img)\n",
    "half_reduction_time = time.time() - half_initial_time\n",
    "print(half_reduction_time)"
   ]
  },
  {
   "cell_type": "code",
   "execution_count": null,
   "metadata": {},
   "outputs": [],
   "source": []
  }
 ],
 "metadata": {
  "kernelspec": {
   "display_name": "Python 3",
   "language": "python",
   "name": "python3"
  },
  "language_info": {
   "codemirror_mode": {
    "name": "ipython",
    "version": 3
   },
   "file_extension": ".py",
   "mimetype": "text/x-python",
   "name": "python",
   "nbconvert_exporter": "python",
   "pygments_lexer": "ipython3",
   "version": "3.6.5"
  }
 },
 "nbformat": 4,
 "nbformat_minor": 2
}
