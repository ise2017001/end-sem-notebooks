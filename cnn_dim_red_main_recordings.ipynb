{
 "cells": [
  {
   "cell_type": "code",
   "execution_count": 1,
   "metadata": {},
   "outputs": [
    {
     "name": "stderr",
     "output_type": "stream",
     "text": [
      "/home/kabir/anaconda3/lib/python3.6/site-packages/h5py/__init__.py:36: FutureWarning: Conversion of the second argument of issubdtype from `float` to `np.floating` is deprecated. In future, it will be treated as `np.float64 == np.dtype(float).type`.\n",
      "  from ._conv import register_converters as _register_converters\n"
     ]
    }
   ],
   "source": [
    "import csv\n",
    "import tensorflow as tf\n",
    "import numpy as np\n",
    "import pandas as pd\n",
    "from tensorflow.examples.tutorials.mnist import input_data\n",
    "from sklearn import svm\n",
    "import time\n",
    "from elm import GenELMClassifier\n",
    "from random_layer import MLPRandomLayer\n"
   ]
  },
  {
   "cell_type": "code",
   "execution_count": 2,
   "metadata": {},
   "outputs": [],
   "source": [
    "NUMBER_OF_FEATURES = 128\n",
    "BATCH_SIZE = 55\n",
    "BATCHES_IN_EPOCH = 100\n",
    "TRAIN_SIZE = 5500\n",
    "TEST_SIZE = 2000\n",
    "NUMBER_OF_EPOCHS = 3\n",
    "NUMBER_OF_EXPERIMENTS = 1"
   ]
  },
  {
   "cell_type": "code",
   "execution_count": 3,
   "metadata": {},
   "outputs": [
    {
     "name": "stdout",
     "output_type": "stream",
     "text": [
      "Extracting MNIST_data/train-images-idx3-ubyte.gz\n",
      "Extracting MNIST_data/train-labels-idx1-ubyte.gz\n",
      "Extracting MNIST_data/t10k-images-idx3-ubyte.gz\n",
      "Extracting MNIST_data/t10k-labels-idx1-ubyte.gz\n"
     ]
    }
   ],
   "source": [
    "old_v = tf.logging.get_verbosity()\n",
    "tf.logging.set_verbosity(tf.logging.ERROR)\n",
    "mnist = input_data.read_data_sets('MNIST_data', one_hot=True)\n",
    "converter = np.array([0,1,2,3,4,5,6,7,8,9])"
   ]
  },
  {
   "cell_type": "code",
   "execution_count": 4,
   "metadata": {},
   "outputs": [],
   "source": [
    "experiment_results = {\n",
    "    \"ConvNet-ACCU\":0,}"
   ]
  },
  {
   "cell_type": "code",
   "execution_count": 5,
   "metadata": {},
   "outputs": [
    {
     "name": "stdout",
     "output_type": "stream",
     "text": [
      "(5500, 784)\n",
      "(10000, 784)\n"
     ]
    }
   ],
   "source": [
    "\n",
    "train_features = np.zeros((TRAIN_SIZE, 28*28), dtype=float)\n",
    "train_labels = np.zeros(TRAIN_SIZE, dtype=int)\n",
    "test_features = mnist.test.images\n",
    "print(train_features.shape)\n",
    "print(test_features.shape)\n",
    "test_labels = np.zeros(TEST_SIZE, dtype=int)\n"
   ]
  },
  {
   "cell_type": "code",
   "execution_count": 6,
   "metadata": {},
   "outputs": [],
   "source": [
    "train_features_cnn = np.zeros((TRAIN_SIZE, NUMBER_OF_FEATURES), dtype=float)\n",
    "train_labels_cnn = np.zeros(TRAIN_SIZE, dtype=int)\n",
    "test_labels_cnn = np.zeros(TEST_SIZE, dtype=int)"
   ]
  },
  {
   "cell_type": "code",
   "execution_count": 7,
   "metadata": {},
   "outputs": [],
   "source": [
    "def print_debug(ndarrayinput, stringinput):\n",
    "    print(\"\\n\"+stringinput)\n",
    "    print(ndarrayinput.shape)\n",
    "    print(type(ndarrayinput))\n",
    "    print(np.mean(ndarrayinput))\n",
    "    print(ndarrayinput)\n",
    "\n",
    "def weight_variable(shape):\n",
    "    initial = tf.truncated_normal(shape, stddev=0.1)\n",
    "    return tf.Variable(initial)\n",
    "\n",
    "def bias_variable(shape):\n",
    "    initial = tf.constant(0.1, shape=shape)\n",
    "    return tf.Variable(initial)\n",
    "\n",
    "def conv2d(x, W):\n",
    "    return tf.nn.conv2d(x, W, strides=[1, 1, 1, 1], padding='SAME')\n",
    "\n",
    "def max_pool_2x2(x):\n",
    "    return tf.nn.max_pool(x, ksize=[1, 2, 2, 1], strides=[1, 2, 2, 1], padding='SAME')\n",
    "\n"
   ]
  },
  {
   "cell_type": "code",
   "execution_count": 8,
   "metadata": {},
   "outputs": [],
   "source": []
  },
  {
   "cell_type": "code",
   "execution_count": 9,
   "metadata": {},
   "outputs": [],
   "source": []
  },
  {
   "cell_type": "code",
   "execution_count": 16,
   "metadata": {},
   "outputs": [],
   "source": [
    "\n",
    "def ConvNet(number_of_training_epochs):\n",
    "    print(\"\\n#########################\\nConvNet Train/Test\\n#########################\")\n",
    "    initial_time = time.time()\n",
    "\n",
    "    for i in range(number_of_training_epochs * BATCHES_IN_EPOCH):\n",
    "        batch = mnist.train.next_batch(BATCH_SIZE)\n",
    "        if i%BATCHES_IN_EPOCH == 0:\n",
    "            train_accuracy = model_accuracy.eval(feed_dict={x: batch[0], y_: batch[1], keep_prob: 1.0})\n",
    "#            print(\"\\nEpoch \", int(i/BATCHES_IN_EPOCH), \"Training Accuracy \", train_accuracy)\n",
    "        train_step.run(feed_dict={x: batch[0], y_: batch[1], keep_prob: 0.5})\n",
    "    training_time = time.time()-initial_time\n",
    "    print(\"\\nTraining Time = \", training_time)\n",
    "\n",
    "    accuracy = model_accuracy.eval(feed_dict={x: mnist.test.images, y_: mnist.test.labels, keep_prob: 1.0})\n",
    "#    test_time = time.time() - (training_time + initial_time)\n",
    "#    print(\"\\nTest Time = \", test_time)\n",
    "\n",
    "    print(\"\\nConvNet accuracy =\", accuracy)\n",
    "    return accuracy, training_time"
   ]
  },
  {
   "cell_type": "code",
   "execution_count": null,
   "metadata": {},
   "outputs": [],
   "source": [
    "\n"
   ]
  },
  {
   "cell_type": "code",
   "execution_count": 15,
   "metadata": {},
   "outputs": [
    {
     "name": "stdout",
     "output_type": "stream",
     "text": [
      "\n",
      "#########################\n",
      "Starting\n",
      "#########################\n",
      "\n",
      "\n",
      "#########################\n",
      "Building ConvNet\n",
      "#########################\n"
     ]
    }
   ],
   "source": [
    "print(\"\\n#########################\\nStarting\\n#########################\\n\")\n",
    "\n",
    "# sess = tf.InteractiveSession()\n",
    "\n",
    "print(\"\\n#########################\\nBuilding ConvNet\\n#########################\")\n",
    "\n",
    "x = tf.placeholder(tf.float32, shape=[None, 784])\n",
    "y_ = tf.placeholder(tf.float32, shape=[None, 10])\n",
    "\n",
    "\n",
    "sess.run(tf.initialize_all_variables())\n",
    "x_image = tf.reshape(x, [-1,28,28,1])\n",
    "W_conv1 = weight_variable([5, 5, 1, 32])\n",
    "b_conv1 = bias_variable([32])\n",
    "h_conv1 = tf.nn.relu(conv2d(x_image, W_conv1) + b_conv1)\n",
    "h_pool1 = max_pool_2x2(h_conv1)\n",
    "\n",
    "W_conv2 = weight_variable([5, 5, 32, 64])\n",
    "b_conv2 = bias_variable([64])\n",
    "h_conv2 = tf.nn.relu(conv2d(h_pool1, W_conv2) + b_conv2)\n",
    "h_pool2 = max_pool_2x2(h_conv2)\n",
    "\n",
    "h_pool2_flat = tf.reshape(h_pool2, [-1, 7*7*64])\n",
    "W_fc1 = weight_variable([7 * 7 * 64, NUMBER_OF_FEATURES])\n",
    "b_fc1 = bias_variable([NUMBER_OF_FEATURES])\n",
    "h_fc1 = tf.nn.relu(tf.matmul(h_pool2_flat, W_fc1) + b_fc1)\n",
    "\n",
    "keep_prob = tf.placeholder(tf.float32)\n",
    "h_fc1_drop = tf.nn.dropout(h_fc1, keep_prob)\n",
    "\n",
    "W_fc2 = weight_variable([NUMBER_OF_FEATURES, 10])\n",
    "b_fc2 = bias_variable([10])\n",
    "\n",
    "y_conv=tf.nn.softmax(tf.matmul(h_fc1_drop, W_fc2) + b_fc2)\n",
    "\n",
    "cross_entropy = tf.reduce_mean(-tf.reduce_sum(y_ * tf.log(y_conv), reduction_indices=[1]))\n",
    "train_step = tf.train.AdamOptimizer(1e-4).minimize(cross_entropy)\n",
    "\n",
    "correct_prediction = tf.equal(tf.argmax(y_conv,1), tf.argmax(y_,1))\n",
    "model_accuracy = tf.reduce_mean(tf.cast(correct_prediction, tf.float32))\n",
    "\n",
    "\n"
   ]
  },
  {
   "cell_type": "code",
   "execution_count": 17,
   "metadata": {
    "scrolled": true
   },
   "outputs": [
    {
     "name": "stdout",
     "output_type": "stream",
     "text": [
      "\n",
      "#########################\n",
      "Executing Experiments\n",
      "#########################\n",
      "\n",
      "#########################\n",
      "Experiment 1 of 1 \n",
      "#########################\n",
      "\n",
      "#########################\n",
      "ConvNet Train/Test\n",
      "#########################\n",
      "\n",
      "Training Time =  37.45641851425171\n",
      "\n",
      "ConvNet accuracy = 0.8906\n",
      "\n",
      "#########################\n",
      "Printing Results\n",
      "#########################\n",
      "\n",
      "\n",
      "    ConvNet-ACCU  ConvNet-TIME\n",
      "0        0.8906     37.456419 \n",
      "\n",
      "       ConvNet-ACCU  ConvNet-TIME\n",
      "count        1.0000      1.000000\n",
      "mean         0.8906     37.456419\n",
      "std             NaN           NaN\n",
      "min          0.8906     37.456419\n",
      "25%          0.8906     37.456419\n",
      "50%          0.8906     37.456419\n",
      "75%          0.8906     37.456419\n",
      "max          0.8906     37.456419\n",
      "\n",
      "#########################\n",
      "Stoping\n",
      "#########################\n",
      "\n"
     ]
    }
   ],
   "source": [
    "print(\"\\n#########################\\nExecuting Experiments\\n#########################\")\n",
    "\n",
    "dataframe_results = pd.DataFrame()\n",
    "\n",
    "for index in range(NUMBER_OF_EXPERIMENTS):\n",
    "    print(\"\\n#########################\\nExperiment\", index+1, \"of\", NUMBER_OF_EXPERIMENTS, \"\\n#########################\")\n",
    "    sess.run(tf.initialize_all_variables())\n",
    "    experiment_results[\"ConvNet-ACCU\"], experiment_results[\"ConvNet-TIME\"] = ConvNet(NUMBER_OF_EPOCHS)\n",
    "    dataframe_results = dataframe_results.append(experiment_results, ignore_index=True)\n",
    "\n",
    "dataframe_results = dataframe_results[[\"ConvNet-ACCU\",\"ConvNet-TIME\",]]\n",
    "\n",
    "print(\"\\n#########################\\nPrinting Results\\n#########################\\n\")\n",
    "\n",
    "print(\"\\n\", dataframe_results, \"\\n\")\n",
    "print(dataframe_results.describe())\n",
    "\n",
    "print(\"\\n#########################\\nStoping\\n#########################\\n\")\n",
    "\n",
    "sess.close()"
   ]
  },
  {
   "cell_type": "code",
   "execution_count": null,
   "metadata": {},
   "outputs": [],
   "source": []
  },
  {
   "cell_type": "code",
   "execution_count": null,
   "metadata": {},
   "outputs": [],
   "source": []
  }
 ],
 "metadata": {
  "kernelspec": {
   "display_name": "Python 3",
   "language": "python",
   "name": "python3"
  },
  "language_info": {
   "codemirror_mode": {
    "name": "ipython",
    "version": 3
   },
   "file_extension": ".py",
   "mimetype": "text/x-python",
   "name": "python",
   "nbconvert_exporter": "python",
   "pygments_lexer": "ipython3",
   "version": "3.6.5"
  }
 },
 "nbformat": 4,
 "nbformat_minor": 2
}
