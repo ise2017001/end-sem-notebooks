{
 "cells": [
  {
   "cell_type": "code",
   "execution_count": 1,
   "metadata": {},
   "outputs": [
    {
     "name": "stderr",
     "output_type": "stream",
     "text": [
      "Using TensorFlow backend.\n"
     ]
    }
   ],
   "source": [
    "import numpy as np\n",
    "from matplotlib import pyplot as plt\n",
    "import pandas as pd\n",
    "\n",
    "import keras\n",
    "from keras.layers import Dense, Activation, Input\n",
    "from keras.models import Model"
   ]
  },
  {
   "cell_type": "code",
   "execution_count": 2,
   "metadata": {},
   "outputs": [],
   "source": [
    "ds = pd.read_csv('/home/kabir/data/mnist/mnist_train.csv')"
   ]
  },
  {
   "cell_type": "code",
   "execution_count": 3,
   "metadata": {},
   "outputs": [],
   "source": [
    "data = ds.values"
   ]
  },
  {
   "cell_type": "code",
   "execution_count": 4,
   "metadata": {},
   "outputs": [],
   "source": [
    "X_data = data[:, 1:]"
   ]
  },
  {
   "cell_type": "code",
   "execution_count": 5,
   "metadata": {},
   "outputs": [
    {
     "name": "stdout",
     "output_type": "stream",
     "text": [
      "(44999, 784) (14999, 784)\n"
     ]
    }
   ],
   "source": [
    "X_std = X_data/255.0\n",
    "n_train = int(0.75*X_std.shape[0])\n",
    "n_val = int(0.25*X_std.shape[0])\n",
    "\n",
    "X_train = X_std[:n_train]\n",
    "X_val = X_std[n_train:n_train+n_val]\n",
    "\n",
    "print(X_train.shape, X_val.shape)"
   ]
  },
  {
   "cell_type": "code",
   "execution_count": 6,
   "metadata": {},
   "outputs": [],
   "source": [
    "########## Preparing the Auto Encoder ##########"
   ]
  },
  {
   "cell_type": "code",
   "execution_count": 7,
   "metadata": {},
   "outputs": [],
   "source": [
    "inp = Input(shape = (784, ))                  # Using Keras Functional API\n",
    "embedding_dim = 64                            # Dimensions of hidden vector representation\n",
    "\n",
    "fc1 = Dense(embedding_dim)(inp)\n",
    "ac1 = Activation('tanh')(fc1)\n",
    "\n",
    "fc2 = Dense(784)(ac1)\n",
    "ac2 = Activation('sigmoid')(fc2)\n",
    "\n",
    "autoencoder = Model(inputs = inp, outputs = ac2)"
   ]
  },
  {
   "cell_type": "code",
   "execution_count": 8,
   "metadata": {},
   "outputs": [
    {
     "name": "stdout",
     "output_type": "stream",
     "text": [
      "\n",
      "\n",
      "<keras.engine.input_layer.InputLayer object at 0x7f44ab01d518>\n",
      "<keras.layers.core.Dense object at 0x7f44ab01d860>\n",
      "<keras.layers.core.Activation object at 0x7f44ab01dac8>\n",
      "<keras.layers.core.Dense object at 0x7f44ab01dc18>\n",
      "<keras.layers.core.Activation object at 0x7f44ab01da90>\n",
      "\n",
      "\n"
     ]
    }
   ],
   "source": [
    "########## Listing the layers used in Auto Encoder to form Encoder/Decoder ##########\n",
    "\n",
    "print('\\n')\n",
    "for layer in autoencoder.layers:\n",
    "    print(layer)\n",
    "print('\\n')"
   ]
  },
  {
   "cell_type": "code",
   "execution_count": 9,
   "metadata": {},
   "outputs": [],
   "source": [
    "\n",
    "########## Preparing the Encoder and Decoder from Auto-Encoder's layers ##########\n",
    "\n",
    "encoder = Model(inputs = inp, outputs = ac1)\n",
    "\n",
    "dec_inp = Input(shape=(embedding_dim,))\n",
    "x = autoencoder.layers[3](dec_inp)\n",
    "x = autoencoder.layers[4](x)\n",
    "\n",
    "decoder = Model(inputs = dec_inp, outputs = x)\n"
   ]
  },
  {
   "cell_type": "code",
   "execution_count": 10,
   "metadata": {},
   "outputs": [
    {
     "name": "stdout",
     "output_type": "stream",
     "text": [
      "Train on 44999 samples, validate on 14999 samples\n",
      "Epoch 1/25\n",
      "44999/44999 [==============================] - 4s 100us/step - loss: 0.0661 - acc: 0.0129 - val_loss: 0.0504 - val_acc: 0.0105\n",
      "Epoch 2/25\n",
      "44999/44999 [==============================] - 4s 83us/step - loss: 0.0447 - acc: 0.0126 - val_loss: 0.0399 - val_acc: 0.0142\n",
      "Epoch 3/25\n",
      "44999/44999 [==============================] - 4s 83us/step - loss: 0.0367 - acc: 0.0143 - val_loss: 0.0339 - val_acc: 0.0147\n",
      "Epoch 4/25\n",
      "44999/44999 [==============================] - 4s 85us/step - loss: 0.0320 - acc: 0.0127 - val_loss: 0.0303 - val_acc: 0.0105\n",
      "Epoch 5/25\n",
      "44999/44999 [==============================] - 4s 92us/step - loss: 0.0286 - acc: 0.0109 - val_loss: 0.0272 - val_acc: 0.0109\n",
      "Epoch 6/25\n",
      "44999/44999 [==============================] - 4s 92us/step - loss: 0.0261 - acc: 0.0105 - val_loss: 0.0255 - val_acc: 0.0108\n",
      "Epoch 7/25\n",
      "44999/44999 [==============================] - 4s 83us/step - loss: 0.0240 - acc: 0.0104 - val_loss: 0.0228 - val_acc: 0.0105\n",
      "Epoch 8/25\n",
      "44999/44999 [==============================] - 4s 81us/step - loss: 0.0213 - acc: 0.0110 - val_loss: 0.0204 - val_acc: 0.0110\n",
      "Epoch 9/25\n",
      "44999/44999 [==============================] - 3s 76us/step - loss: 0.0191 - acc: 0.0106 - val_loss: 0.0185 - val_acc: 0.0125\n",
      "Epoch 10/25\n",
      "44999/44999 [==============================] - 3s 77us/step - loss: 0.0176 - acc: 0.0115 - val_loss: 0.0171 - val_acc: 0.0126\n",
      "Epoch 11/25\n",
      "44999/44999 [==============================] - 3s 77us/step - loss: 0.0162 - acc: 0.0116 - val_loss: 0.0156 - val_acc: 0.0125\n",
      "Epoch 12/25\n",
      "44999/44999 [==============================] - 4s 80us/step - loss: 0.0145 - acc: 0.0120 - val_loss: 0.0137 - val_acc: 0.0133\n",
      "Epoch 13/25\n",
      "44999/44999 [==============================] - 3s 78us/step - loss: 0.0127 - acc: 0.0123 - val_loss: 0.0122 - val_acc: 0.0121\n",
      "Epoch 14/25\n",
      "44999/44999 [==============================] - 4s 80us/step - loss: 0.0112 - acc: 0.0125 - val_loss: 0.0107 - val_acc: 0.0113\n",
      "Epoch 15/25\n",
      "44999/44999 [==============================] - 4s 79us/step - loss: 0.0099 - acc: 0.0125 - val_loss: 0.0096 - val_acc: 0.0129\n",
      "Epoch 16/25\n",
      "44999/44999 [==============================] - 4s 78us/step - loss: 0.0090 - acc: 0.0131 - val_loss: 0.0088 - val_acc: 0.0129\n",
      "Epoch 17/25\n",
      "44999/44999 [==============================] - 4s 79us/step - loss: 0.0083 - acc: 0.0128 - val_loss: 0.0082 - val_acc: 0.0135\n",
      "Epoch 18/25\n",
      "44999/44999 [==============================] - 4s 85us/step - loss: 0.0077 - acc: 0.0132 - val_loss: 0.0077 - val_acc: 0.0139\n",
      "Epoch 19/25\n",
      "44999/44999 [==============================] - 4s 87us/step - loss: 0.0072 - acc: 0.0126 - val_loss: 0.0073 - val_acc: 0.0147\n",
      "Epoch 20/25\n",
      "44999/44999 [==============================] - 4s 85us/step - loss: 0.0068 - acc: 0.0133 - val_loss: 0.0069 - val_acc: 0.0147\n",
      "Epoch 21/25\n",
      "44999/44999 [==============================] - 4s 90us/step - loss: 0.0065 - acc: 0.0136 - val_loss: 0.0066 - val_acc: 0.0145\n",
      "Epoch 22/25\n",
      "44999/44999 [==============================] - 4s 91us/step - loss: 0.0062 - acc: 0.0139 - val_loss: 0.0063 - val_acc: 0.0147\n",
      "Epoch 23/25\n",
      "44999/44999 [==============================] - 4s 85us/step - loss: 0.0060 - acc: 0.0142 - val_loss: 0.0062 - val_acc: 0.0141\n",
      "Epoch 24/25\n",
      "44999/44999 [==============================] - 4s 83us/step - loss: 0.0058 - acc: 0.0142 - val_loss: 0.0060 - val_acc: 0.0133\n",
      "Epoch 25/25\n",
      "44999/44999 [==============================] - 4s 83us/step - loss: 0.0057 - acc: 0.0138 - val_loss: 0.0058 - val_acc: 0.0133\n"
     ]
    }
   ],
   "source": [
    "########## Compiling and fiting the Auto Encoder ##########\n",
    "\n",
    "autoencoder.compile(loss='mse', optimizer='adam', metrics = ['accuracy'])\n",
    "hist = autoencoder.fit(X_train, X_train, epochs=25, batch_size=100, shuffle=True, validation_data=(X_val, X_val))\n",
    "\n",
    "auto_encoder_encodes = encoder.predict(X_train)                  # Encoder generates a hidden-dimension (64 dim) representation of original data (784 dim)\n",
    "auto_encoder_decodes = decoder.predict(auto_encoder_encodes)     # Decoder decodes hidden-representation (64 dim) given by encoder to dimensions of input data (784 dim)\n",
    "\n"
   ]
  },
  {
   "cell_type": "code",
   "execution_count": 11,
   "metadata": {},
   "outputs": [],
   "source": [
    "########## Applying PCA from sklearn on the same data ##########\n",
    "\n",
    "from sklearn.decomposition import PCA\n",
    "\n",
    "pca = PCA(n_components=embedding_dim)\n",
    "pca_dim_reducts = pca.fit_transform(X_std[:(n_train + n_val)])\n",
    "pca_regenerations = pca.inverse_transform(pca_dim_reducts)\n",
    "\n",
    "\n",
    "\n"
   ]
  },
  {
   "cell_type": "code",
   "execution_count": 12,
   "metadata": {},
   "outputs": [
    {
     "data": {
      "text/plain": [
       "<Figure size 432x288 with 0 Axes>"
      ]
     },
     "execution_count": 12,
     "metadata": {},
     "output_type": "execute_result"
    },
    {
     "data": {
      "text/plain": [
       "<Figure size 432x288 with 0 Axes>"
      ]
     },
     "metadata": {},
     "output_type": "display_data"
    }
   ],
   "source": [
    "########## Comparing 5 regerations from PCA & Auto Encoders ##########\n",
    "plt.figure(0)"
   ]
  },
  {
   "cell_type": "code",
   "execution_count": 13,
   "metadata": {},
   "outputs": [
    {
     "data": {
      "image/png": "[encoded data removed]",
      "text/plain": [
       "<Figure size 432x288 with 15 Axes>"
      ]
     },
     "metadata": {
      "needs_background": "light"
     },
     "output_type": "display_data"
    }
   ],
   "source": [
    " for ix in range(5, 10):\n",
    "    plt.subplot(5, 3, ((ix-5) * 3) + 1)\n",
    "    plt.title('Original')\n",
    "    plt.imshow(X_train[ix].reshape((28, 28)), cmap='gray')\n",
    "    plt.subplot(5, 3, ((ix-5) * 3) + 2)\n",
    "    plt.title('A-E Regen.')\n",
    "    plt.imshow(auto_encoder_decodes[ix].reshape((28, 28)), cmap='gray')\n",
    "    plt.subplot(5, 3, ((ix-5) * 3) + 3)\n",
    "    plt.title('PCA Regen.')\n",
    "    plt.imshow(pca_regenerations[ix].reshape((28, 28)), cmap='gray')\n",
    "plt.show()"
   ]
  },
  {
   "cell_type": "code",
   "execution_count": null,
   "metadata": {},
   "outputs": [],
   "source": []
  }
 ],
 "metadata": {
  "kernelspec": {
   "display_name": "Python 3",
   "language": "python",
   "name": "python3"
  },
  "language_info": {
   "codemirror_mode": {
    "name": "ipython",
    "version": 3
   },
   "file_extension": ".py",
   "mimetype": "text/x-python",
   "name": "python",
   "nbconvert_exporter": "python",
   "pygments_lexer": "ipython3",
   "version": "3.6.6"
  }
 },
 "nbformat": 4,
 "nbformat_minor": 2
}
